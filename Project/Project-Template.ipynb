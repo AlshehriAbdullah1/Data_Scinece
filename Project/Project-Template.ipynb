{
 "cells": [
  {
   "cell_type": "markdown",
   "id": "controlled-romantic",
   "metadata": {
    "toc": true
   },
   "source": [
    "<h1>Table of Contents<span class=\"tocSkip\"></span></h1>\n",
    "<div class=\"toc\"><ul class=\"toc-item\"><li><span><a href=\"#ISE-291-Term-Project\" data-toc-modified-id=\"ISE-291-Term-Project-1\"><span class=\"toc-item-num\">1&nbsp;&nbsp;</span>ISE 291 Term Project</a></span><ul class=\"toc-item\"><li><span><a href=\"#Task-1\" data-toc-modified-id=\"Task-1-1.1\"><span class=\"toc-item-num\">1.1&nbsp;&nbsp;</span>Task-1</a></span></li><li><span><a href=\"#Task-2\" data-toc-modified-id=\"Task-2-1.2\"><span class=\"toc-item-num\">1.2&nbsp;&nbsp;</span>Task-2</a></span></li><li><span><a href=\"#Task-3\" data-toc-modified-id=\"Task-3-1.3\"><span class=\"toc-item-num\">1.3&nbsp;&nbsp;</span>Task-3</a></span></li><li><span><a href=\"#Task-4\" data-toc-modified-id=\"Task-4-1.4\"><span class=\"toc-item-num\">1.4&nbsp;&nbsp;</span>Task-4</a></span></li><li><span><a href=\"#Task-5\" data-toc-modified-id=\"Task-5-1.5\"><span class=\"toc-item-num\">1.5&nbsp;&nbsp;</span>Task-5</a></span></li><li><span><a href=\"#Task-6\" data-toc-modified-id=\"Task-6-1.6\"><span class=\"toc-item-num\">1.6&nbsp;&nbsp;</span>Task-6</a></span></li><li><span><a href=\"#Task-7\" data-toc-modified-id=\"Task-7-1.7\"><span class=\"toc-item-num\">1.7&nbsp;&nbsp;</span>Task-7</a></span></li><li><span><a href=\"#Task-8\" data-toc-modified-id=\"Task-8-1.8\"><span class=\"toc-item-num\">1.8&nbsp;&nbsp;</span>Task-8</a></span></li><li><span><a href=\"#Task-9\" data-toc-modified-id=\"Task-9-1.9\"><span class=\"toc-item-num\">1.9&nbsp;&nbsp;</span>Task-9</a></span></li><li><span><a href=\"#Task-10\" data-toc-modified-id=\"Task-10-1.10\"><span class=\"toc-item-num\">1.10&nbsp;&nbsp;</span>Task-10</a></span></li><li><span><a href=\"#Task-11\" data-toc-modified-id=\"Task-11-1.11\"><span class=\"toc-item-num\">1.11&nbsp;&nbsp;</span>Task-11</a></span></li></ul></li></ul></div>"
   ]
  },
  {
   "cell_type": "markdown",
   "id": "stunning-roller",
   "metadata": {},
   "source": [
    "# ISE 291 Term Project "
   ]
  },
  {
   "cell_type": "markdown",
   "id": "abandoned-russia",
   "metadata": {},
   "source": [
    "Group Number = 90  "
   ]
  },
  {
   "cell_type": "markdown",
   "id": "cloudy-ridge",
   "metadata": {},
   "source": [
    "Group Members:\n",
    "\n",
    "Names:                             Student IDs \n",
    "\n",
    "1-Abdullah Alshehri                201948570          \n"
   ]
  },
  {
   "cell_type": "markdown",
   "id": "worst-pizza",
   "metadata": {},
   "source": [
    "## Task-1"
   ]
  },
  {
   "cell_type": "code",
   "execution_count": null,
   "id": "consistent-eclipse",
   "metadata": {},
   "outputs": [],
   "source": []
  },
  {
   "cell_type": "markdown",
   "id": "killing-village",
   "metadata": {},
   "source": [
    "## Task-2"
   ]
  },
  {
   "cell_type": "code",
   "execution_count": null,
   "id": "pointed-tulsa",
   "metadata": {},
   "outputs": [],
   "source": []
  },
  {
   "cell_type": "markdown",
   "id": "realistic-mayor",
   "metadata": {},
   "source": [
    "## Task-3"
   ]
  },
  {
   "cell_type": "code",
   "execution_count": 17,
   "id": "oriented-crime",
   "metadata": {},
   "outputs": [
    {
     "data": {
      "text/html": [
       "<div>\n",
       "<style scoped>\n",
       "    .dataframe tbody tr th:only-of-type {\n",
       "        vertical-align: middle;\n",
       "    }\n",
       "\n",
       "    .dataframe tbody tr th {\n",
       "        vertical-align: top;\n",
       "    }\n",
       "\n",
       "    .dataframe thead th {\n",
       "        text-align: right;\n",
       "    }\n",
       "</style>\n",
       "<table border=\"1\" class=\"dataframe\">\n",
       "  <thead>\n",
       "    <tr style=\"text-align: right;\">\n",
       "      <th></th>\n",
       "      <th>Sale-Price</th>\n",
       "      <th>Purchase-Price</th>\n",
       "      <th>U-Index</th>\n",
       "      <th>Proximity</th>\n",
       "      <th>N-Rank</th>\n",
       "      <th>P-Chance</th>\n",
       "      <th>Built</th>\n",
       "      <th>Renovate</th>\n",
       "      <th>Crime-Rate</th>\n",
       "      <th>C-Rating</th>\n",
       "      <th>Gov-Index</th>\n",
       "    </tr>\n",
       "  </thead>\n",
       "  <tbody>\n",
       "    <tr>\n",
       "      <th>Sale-Price</th>\n",
       "      <td>1.000000</td>\n",
       "      <td>0.090529</td>\n",
       "      <td>0.041341</td>\n",
       "      <td>0.068229</td>\n",
       "      <td>0.008185</td>\n",
       "      <td>0.036222</td>\n",
       "      <td>0.037347</td>\n",
       "      <td>0.152200</td>\n",
       "      <td>0.009409</td>\n",
       "      <td>0.017557</td>\n",
       "      <td>0.026592</td>\n",
       "    </tr>\n",
       "    <tr>\n",
       "      <th>Purchase-Price</th>\n",
       "      <td>0.090529</td>\n",
       "      <td>1.000000</td>\n",
       "      <td>0.013656</td>\n",
       "      <td>0.026463</td>\n",
       "      <td>0.020098</td>\n",
       "      <td>0.002946</td>\n",
       "      <td>0.007636</td>\n",
       "      <td>0.034855</td>\n",
       "      <td>0.018606</td>\n",
       "      <td>0.029673</td>\n",
       "      <td>0.011313</td>\n",
       "    </tr>\n",
       "    <tr>\n",
       "      <th>U-Index</th>\n",
       "      <td>0.041341</td>\n",
       "      <td>0.013656</td>\n",
       "      <td>1.000000</td>\n",
       "      <td>0.025268</td>\n",
       "      <td>0.001513</td>\n",
       "      <td>0.009767</td>\n",
       "      <td>0.001468</td>\n",
       "      <td>0.022669</td>\n",
       "      <td>0.001866</td>\n",
       "      <td>0.015171</td>\n",
       "      <td>0.012230</td>\n",
       "    </tr>\n",
       "    <tr>\n",
       "      <th>Proximity</th>\n",
       "      <td>0.068229</td>\n",
       "      <td>0.026463</td>\n",
       "      <td>0.025268</td>\n",
       "      <td>1.000000</td>\n",
       "      <td>0.000976</td>\n",
       "      <td>0.006400</td>\n",
       "      <td>0.021345</td>\n",
       "      <td>0.022369</td>\n",
       "      <td>0.013057</td>\n",
       "      <td>0.026335</td>\n",
       "      <td>0.012357</td>\n",
       "    </tr>\n",
       "    <tr>\n",
       "      <th>N-Rank</th>\n",
       "      <td>0.008185</td>\n",
       "      <td>0.020098</td>\n",
       "      <td>0.001513</td>\n",
       "      <td>0.000976</td>\n",
       "      <td>1.000000</td>\n",
       "      <td>0.016164</td>\n",
       "      <td>0.003205</td>\n",
       "      <td>0.001129</td>\n",
       "      <td>0.042534</td>\n",
       "      <td>0.022747</td>\n",
       "      <td>0.004109</td>\n",
       "    </tr>\n",
       "    <tr>\n",
       "      <th>P-Chance</th>\n",
       "      <td>0.036222</td>\n",
       "      <td>0.002946</td>\n",
       "      <td>0.009767</td>\n",
       "      <td>0.006400</td>\n",
       "      <td>0.016164</td>\n",
       "      <td>1.000000</td>\n",
       "      <td>0.007107</td>\n",
       "      <td>0.017291</td>\n",
       "      <td>0.013237</td>\n",
       "      <td>0.007169</td>\n",
       "      <td>0.003261</td>\n",
       "    </tr>\n",
       "    <tr>\n",
       "      <th>Built</th>\n",
       "      <td>0.037347</td>\n",
       "      <td>0.007636</td>\n",
       "      <td>0.001468</td>\n",
       "      <td>0.021345</td>\n",
       "      <td>0.003205</td>\n",
       "      <td>0.007107</td>\n",
       "      <td>1.000000</td>\n",
       "      <td>0.298921</td>\n",
       "      <td>0.008523</td>\n",
       "      <td>0.033444</td>\n",
       "      <td>0.006104</td>\n",
       "    </tr>\n",
       "    <tr>\n",
       "      <th>Renovate</th>\n",
       "      <td>0.152200</td>\n",
       "      <td>0.034855</td>\n",
       "      <td>0.022669</td>\n",
       "      <td>0.022369</td>\n",
       "      <td>0.001129</td>\n",
       "      <td>0.017291</td>\n",
       "      <td>0.298921</td>\n",
       "      <td>1.000000</td>\n",
       "      <td>0.009769</td>\n",
       "      <td>0.012516</td>\n",
       "      <td>0.009400</td>\n",
       "    </tr>\n",
       "    <tr>\n",
       "      <th>Crime-Rate</th>\n",
       "      <td>0.009409</td>\n",
       "      <td>0.018606</td>\n",
       "      <td>0.001866</td>\n",
       "      <td>0.013057</td>\n",
       "      <td>0.042534</td>\n",
       "      <td>0.013237</td>\n",
       "      <td>0.008523</td>\n",
       "      <td>0.009769</td>\n",
       "      <td>1.000000</td>\n",
       "      <td>0.010251</td>\n",
       "      <td>0.009543</td>\n",
       "    </tr>\n",
       "    <tr>\n",
       "      <th>C-Rating</th>\n",
       "      <td>0.017557</td>\n",
       "      <td>0.029673</td>\n",
       "      <td>0.015171</td>\n",
       "      <td>0.026335</td>\n",
       "      <td>0.022747</td>\n",
       "      <td>0.007169</td>\n",
       "      <td>0.033444</td>\n",
       "      <td>0.012516</td>\n",
       "      <td>0.010251</td>\n",
       "      <td>1.000000</td>\n",
       "      <td>0.007620</td>\n",
       "    </tr>\n",
       "    <tr>\n",
       "      <th>Gov-Index</th>\n",
       "      <td>0.026592</td>\n",
       "      <td>0.011313</td>\n",
       "      <td>0.012230</td>\n",
       "      <td>0.012357</td>\n",
       "      <td>0.004109</td>\n",
       "      <td>0.003261</td>\n",
       "      <td>0.006104</td>\n",
       "      <td>0.009400</td>\n",
       "      <td>0.009543</td>\n",
       "      <td>0.007620</td>\n",
       "      <td>1.000000</td>\n",
       "    </tr>\n",
       "  </tbody>\n",
       "</table>\n",
       "</div>"
      ],
      "text/plain": [
       "                Sale-Price  Purchase-Price   U-Index  Proximity    N-Rank  \\\n",
       "Sale-Price        1.000000        0.090529  0.041341   0.068229  0.008185   \n",
       "Purchase-Price    0.090529        1.000000  0.013656   0.026463  0.020098   \n",
       "U-Index           0.041341        0.013656  1.000000   0.025268  0.001513   \n",
       "Proximity         0.068229        0.026463  0.025268   1.000000  0.000976   \n",
       "N-Rank            0.008185        0.020098  0.001513   0.000976  1.000000   \n",
       "P-Chance          0.036222        0.002946  0.009767   0.006400  0.016164   \n",
       "Built             0.037347        0.007636  0.001468   0.021345  0.003205   \n",
       "Renovate          0.152200        0.034855  0.022669   0.022369  0.001129   \n",
       "Crime-Rate        0.009409        0.018606  0.001866   0.013057  0.042534   \n",
       "C-Rating          0.017557        0.029673  0.015171   0.026335  0.022747   \n",
       "Gov-Index         0.026592        0.011313  0.012230   0.012357  0.004109   \n",
       "\n",
       "                P-Chance     Built  Renovate  Crime-Rate  C-Rating  Gov-Index  \n",
       "Sale-Price      0.036222  0.037347  0.152200    0.009409  0.017557   0.026592  \n",
       "Purchase-Price  0.002946  0.007636  0.034855    0.018606  0.029673   0.011313  \n",
       "U-Index         0.009767  0.001468  0.022669    0.001866  0.015171   0.012230  \n",
       "Proximity       0.006400  0.021345  0.022369    0.013057  0.026335   0.012357  \n",
       "N-Rank          0.016164  0.003205  0.001129    0.042534  0.022747   0.004109  \n",
       "P-Chance        1.000000  0.007107  0.017291    0.013237  0.007169   0.003261  \n",
       "Built           0.007107  1.000000  0.298921    0.008523  0.033444   0.006104  \n",
       "Renovate        0.017291  0.298921  1.000000    0.009769  0.012516   0.009400  \n",
       "Crime-Rate      0.013237  0.008523  0.009769    1.000000  0.010251   0.009543  \n",
       "C-Rating        0.007169  0.033444  0.012516    0.010251  1.000000   0.007620  \n",
       "Gov-Index       0.003261  0.006104  0.009400    0.009543  0.007620   1.000000  "
      ]
     },
     "metadata": {},
     "output_type": "display_data"
    },
    {
     "name": "stdout",
     "output_type": "stream",
     "text": [
      "top 3 numerical variables that are strongly related to the output variable are: Renovate,Purchase-Price and Proximity\n",
      "\n",
      "Bottom 3 numerical variables that are strongly related to the output variable are: N-Rank,Crime-Rate and C-Rating. \n"
     ]
    }
   ],
   "source": [
    "import numpy as np\n",
    "import pandas as pd\n",
    "df = pd.read_csv('group90/Group_90_B.csv', delimiter = ',')\n",
    "num_columns = df.select_dtypes(exclude='object').columns\n",
    "corr = df[num_columns].corr().abs()\n",
    "display(corr)\n",
    "print(\"top 3 numerical variables that are strongly related to the output variable are: Renovate,Purchase-Price and Proximity\")\n",
    "print() \n",
    "print(\"Bottom 3 numerical variables that are strongly related to the output variable are: N-Rank,Crime-Rate and C-Rating. \")"
   ]
  },
  {
   "cell_type": "markdown",
   "id": "impressive-wagon",
   "metadata": {},
   "source": [
    "## Task-4"
   ]
  },
  {
   "cell_type": "code",
   "execution_count": null,
   "id": "stylish-warren",
   "metadata": {},
   "outputs": [],
   "source": []
  },
  {
   "cell_type": "markdown",
   "id": "loose-premises",
   "metadata": {},
   "source": [
    "## Task-5"
   ]
  },
  {
   "cell_type": "code",
   "execution_count": null,
   "id": "tested-north",
   "metadata": {},
   "outputs": [],
   "source": []
  },
  {
   "cell_type": "markdown",
   "id": "acknowledged-volume",
   "metadata": {},
   "source": [
    "## Task-6"
   ]
  },
  {
   "cell_type": "code",
   "execution_count": null,
   "id": "imposed-pound",
   "metadata": {},
   "outputs": [],
   "source": []
  },
  {
   "cell_type": "markdown",
   "id": "disturbed-material",
   "metadata": {},
   "source": [
    "## Task-7"
   ]
  },
  {
   "cell_type": "code",
   "execution_count": null,
   "id": "raised-approach",
   "metadata": {},
   "outputs": [],
   "source": []
  },
  {
   "cell_type": "markdown",
   "id": "enabling-treatment",
   "metadata": {},
   "source": [
    "## Task-8"
   ]
  },
  {
   "cell_type": "code",
   "execution_count": null,
   "id": "0e7348c3",
   "metadata": {},
   "outputs": [],
   "source": []
  },
  {
   "cell_type": "markdown",
   "id": "47c24466",
   "metadata": {},
   "source": [
    "## Task-9"
   ]
  },
  {
   "cell_type": "code",
   "execution_count": null,
   "id": "022f230a",
   "metadata": {},
   "outputs": [],
   "source": []
  },
  {
   "cell_type": "markdown",
   "id": "26d02a6b",
   "metadata": {},
   "source": [
    "## Task-10"
   ]
  },
  {
   "cell_type": "code",
   "execution_count": null,
   "id": "3f371371",
   "metadata": {},
   "outputs": [],
   "source": []
  },
  {
   "cell_type": "markdown",
   "id": "2f5fed56",
   "metadata": {},
   "source": [
    "## Task-11"
   ]
  },
  {
   "cell_type": "code",
   "execution_count": null,
   "id": "10cf63e8",
   "metadata": {},
   "outputs": [],
   "source": []
  }
 ],
 "metadata": {
  "hide_input": false,
  "kernelspec": {
   "display_name": "Python 3 (ipykernel)",
   "language": "python",
   "name": "python3"
  },
  "language_info": {
   "codemirror_mode": {
    "name": "ipython",
    "version": 3
   },
   "file_extension": ".py",
   "mimetype": "text/x-python",
   "name": "python",
   "nbconvert_exporter": "python",
   "pygments_lexer": "ipython3",
   "version": "3.9.7"
  },
  "toc": {
   "base_numbering": 1,
   "nav_menu": {},
   "number_sections": true,
   "sideBar": true,
   "skip_h1_title": false,
   "title_cell": "Table of Contents",
   "title_sidebar": "Contents",
   "toc_cell": true,
   "toc_position": {},
   "toc_section_display": true,
   "toc_window_display": false
  },
  "varInspector": {
   "cols": {
    "lenName": 16,
    "lenType": 16,
    "lenVar": 40
   },
   "kernels_config": {
    "python": {
     "delete_cmd_postfix": "",
     "delete_cmd_prefix": "del ",
     "library": "var_list.py",
     "varRefreshCmd": "print(var_dic_list())"
    },
    "r": {
     "delete_cmd_postfix": ") ",
     "delete_cmd_prefix": "rm(",
     "library": "var_list.r",
     "varRefreshCmd": "cat(var_dic_list()) "
    }
   },
   "types_to_exclude": [
    "module",
    "function",
    "builtin_function_or_method",
    "instance",
    "_Feature"
   ],
   "window_display": false
  }
 },
 "nbformat": 4,
 "nbformat_minor": 5
}
